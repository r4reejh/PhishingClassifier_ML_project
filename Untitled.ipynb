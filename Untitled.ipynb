{
 "cells": [
  {
   "cell_type": "code",
   "execution_count": 78,
   "metadata": {},
   "outputs": [],
   "source": [
    "import pandas as pd\n",
    "filedata = pd.read_csv('Phishing data.csv')"
   ]
  },
  {
   "cell_type": "code",
   "execution_count": 25,
   "metadata": {},
   "outputs": [],
   "source": [
    "from sklearn import tree,svm\n",
    "clf = tree.DecisionTreeClassifier()\n",
    "\n",
    "\n",
    "X = filedata.drop(['Result'],axis=1)\n",
    "Y = filedata.filter(['Result'],axis=1)"
   ]
  },
  {
   "cell_type": "code",
   "execution_count": null,
   "metadata": {},
   "outputs": [],
   "source": []
  },
  {
   "cell_type": "code",
   "execution_count": 13,
   "metadata": {},
   "outputs": [
    {
     "name": "stdout",
     "output_type": "stream",
     "text": [
      "[ 0  1  1 ...,  1  1 -1]\n"
     ]
    }
   ],
   "source": [
    "Y_arr = Y.values.reshape(1353,1).ravel()\n",
    "print Y_arr"
   ]
  },
  {
   "cell_type": "code",
   "execution_count": 16,
   "metadata": {},
   "outputs": [],
   "source": [
    "from sklearn.model_selection import train_test_split\n",
    "\n",
    "X_train, X_test, y_train, y_test = train_test_split(X.values, Y_arr, test_size=0.33, random_state=42)\n",
    "\n"
   ]
  },
  {
   "cell_type": "code",
   "execution_count": 60,
   "metadata": {},
   "outputs": [
    {
     "name": "stdout",
     "output_type": "stream",
     "text": [
      "0.829977628635\n"
     ]
    }
   ],
   "source": [
    "clf.fit(X_train,y_train)\n",
    "print clf.score(X_test,y_test)"
   ]
  },
  {
   "cell_type": "code",
   "execution_count": 61,
   "metadata": {},
   "outputs": [
    {
     "name": "stdout",
     "output_type": "stream",
     "text": [
      "0.798657718121\n"
     ]
    }
   ],
   "source": [
    "clf1 = svm.SVC(decision_function_shape='ovo',kernel='rbf')\n",
    "clf1.fit(X_train,y_train)\n",
    "print clf1.score(X_test,y_test)"
   ]
  },
  {
   "cell_type": "code",
   "execution_count": 62,
   "metadata": {},
   "outputs": [
    {
     "name": "stdout",
     "output_type": "stream",
     "text": [
      "0.825503355705\n"
     ]
    }
   ],
   "source": [
    "from sklearn import ensemble\n",
    "clf2 = ensemble.RandomForestClassifier()\n",
    "clf2.fit(X_train,y_train)\n",
    "print clf2.score(X_test,y_test)"
   ]
  },
  {
   "cell_type": "code",
   "execution_count": 63,
   "metadata": {},
   "outputs": [
    {
     "name": "stdout",
     "output_type": "stream",
     "text": [
      "0.79418344519\n"
     ]
    }
   ],
   "source": [
    "from sklearn import ensemble\n",
    "clf3 = ensemble.AdaBoostClassifier()\n",
    "clf3.fit(X_train,y_train)\n",
    "print clf3.score(X_test,y_test)"
   ]
  },
  {
   "cell_type": "code",
   "execution_count": 75,
   "metadata": {},
   "outputs": [
    {
     "name": "stdout",
     "output_type": "stream",
     "text": [
      "0.818791946309\n"
     ]
    }
   ],
   "source": [
    "from sklearn import neighbors\n",
    "clf4 = neighbors.KNeighborsClassifier(11)\n",
    "clf4.fit(X_train,y_train)\n",
    "print clf4.score(X_test,y_test)"
   ]
  },
  {
   "cell_type": "code",
   "execution_count": 89,
   "metadata": {},
   "outputs": [
    {
     "name": "stdout",
     "output_type": "stream",
     "text": [
      "0.79418344519\n"
     ]
    }
   ],
   "source": [
    "from sklearn import naive_bayes\n",
    "clf5 = naive_bayes.GaussianNB()\n",
    "clf5.fit(X_train,y_train)\n",
    "print clf5.score(X_test,y_test)"
   ]
  },
  {
   "cell_type": "code",
   "execution_count": 111,
   "metadata": {},
   "outputs": [
    {
     "name": "stdout",
     "output_type": "stream",
     "text": [
      "0.894308943089\n"
     ]
    }
   ],
   "source": [
    "from sklearn import neural_network\n",
    "clf6 = neural_network.MLPClassifier(alpha=1,max_iter=600,solver='lbfgs',shuffle=True)\n",
    "clf6.fit(X_train,y_train)\n",
    "print clf6.score(X.values,Y_arr)"
   ]
  },
  {
   "cell_type": "code",
   "execution_count": null,
   "metadata": {},
   "outputs": [],
   "source": []
  }
 ],
 "metadata": {
  "kernelspec": {
   "display_name": "Python 2",
   "language": "python",
   "name": "python2"
  },
  "language_info": {
   "codemirror_mode": {
    "name": "ipython",
    "version": 2
   },
   "file_extension": ".py",
   "mimetype": "text/x-python",
   "name": "python",
   "nbconvert_exporter": "python",
   "pygments_lexer": "ipython2",
   "version": "2.7.14"
  }
 },
 "nbformat": 4,
 "nbformat_minor": 2
}
