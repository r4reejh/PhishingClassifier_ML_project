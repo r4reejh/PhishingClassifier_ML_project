{
 "cells": [
  {
   "cell_type": "code",
   "execution_count": 1,
   "metadata": {},
   "outputs": [
    {
     "name": "stdout",
     "output_type": "stream",
     "text": [
      "      popUpWidnow  SSLfinal_State  Request_URL  URL_of_Anchor  web_traffic  \\\n",
      "0              -1               1           -1             -1            1   \n",
      "1              -1              -1           -1             -1            0   \n",
      "2              -1               0            0             -1            0   \n",
      "3               0               1           -1             -1            0   \n",
      "4              -1               1           -1              0            0   \n",
      "5              -1               1           -1             -1            1   \n",
      "6              -1               0            1             -1            0   \n",
      "7               0               1            1              0            0   \n",
      "8              -1               0           -1             -1           -1   \n",
      "9               0              -1           -1              1            1   \n",
      "10             -1               0           -1             -1            1   \n",
      "11              0               1            1              1           -1   \n",
      "12             -1               0           -1              1            0   \n",
      "13              0               1            0             -1            1   \n",
      "14             -1              -1            1             -1            0   \n",
      "15              0              -1            0              0            1   \n",
      "16              0               0            0             -1            1   \n",
      "17              1               1           -1              1           -1   \n",
      "18             -1              -1            0              1            1   \n",
      "19             -1               0            1              0            0   \n",
      "20             -1               1           -1             -1            1   \n",
      "21              0              -1           -1              1            1   \n",
      "22             -1               0           -1              1           -1   \n",
      "23              0               1            0             -1            0   \n",
      "24              0              -1            0             -1            1   \n",
      "25             -1               0           -1              1           -1   \n",
      "26              0               1            1              1            0   \n",
      "27              0              -1            1              1            0   \n",
      "28              0               1            0             -1           -1   \n",
      "29             -1               0            0              1            1   \n",
      "...           ...             ...          ...            ...          ...   \n",
      "1323           -1              -1            0              1            0   \n",
      "1324            0              -1            1              1           -1   \n",
      "1325            0               1            1              1            1   \n",
      "1326            0               0            0             -1           -1   \n",
      "1327           -1               0           -1             -1            1   \n",
      "1328            0               1           -1             -1            1   \n",
      "1329           -1               1            0              0           -1   \n",
      "1330            1              -1            1              1           -1   \n",
      "1331           -1               1            1              1            1   \n",
      "1332            0               1           -1              1            0   \n",
      "1333            0              -1            0              0            1   \n",
      "1334            0              -1            0             -1            1   \n",
      "1335           -1               1            0              1            1   \n",
      "1336           -1               0           -1             -1            0   \n",
      "1337            0               1            0             -1            1   \n",
      "1338            0              -1            0              0            1   \n",
      "1339            0               1            0             -1            0   \n",
      "1340            0              -1           -1              1            1   \n",
      "1341            0               1            0             -1            0   \n",
      "1342            0               1           -1             -1            1   \n",
      "1343            1              -1            1              1            1   \n",
      "1344            0               0            0              1            0   \n",
      "1345            0               1           -1              1            0   \n",
      "1346            1               0            0             -1           -1   \n",
      "1347            0               1            1              1           -1   \n",
      "1348           -1              -1           -1             -1           -1   \n",
      "1349            0               1            0             -1            0   \n",
      "1350            0              -1           -1             -1            0   \n",
      "1351            0               1            0              0            0   \n",
      "1352            0               1            1              1            0   \n",
      "\n",
      "      URL_Length  age_of_domain  having_IP_Address  Result  \n",
      "0              1              1                  0       0  \n",
      "1              1              1                  1       1  \n",
      "2             -1              1                  0       1  \n",
      "3              1              1                  0       0  \n",
      "4             -1              1                  0       1  \n",
      "5              0             -1                  0       1  \n",
      "6              0              1                  0      -1  \n",
      "7              0              1                  1      -1  \n",
      "8             -1              1                  0       0  \n",
      "9              0             -1                  0       1  \n",
      "10            -1             -1                  0       1  \n",
      "11             1              1                  0      -1  \n",
      "12             1              1                  0       1  \n",
      "13             0             -1                  0      -1  \n",
      "14            -1              1                  0       1  \n",
      "15             1             -1                  1       1  \n",
      "16            -1             -1                  0       1  \n",
      "17             1              1                  0      -1  \n",
      "18             0             -1                  0       1  \n",
      "19            -1              1                  0       1  \n",
      "20            -1              1                  0       1  \n",
      "21            -1             -1                  0      -1  \n",
      "22             0              1                  0      -1  \n",
      "23             0              1                  0      -1  \n",
      "24            -1             -1                  0      -1  \n",
      "25             0              1                  0      -1  \n",
      "26             0              1                  0      -1  \n",
      "27             0             -1                  0      -1  \n",
      "28             0              1                  0      -1  \n",
      "29            -1             -1                  0       1  \n",
      "...          ...            ...                ...     ...  \n",
      "1323           0              1                  0       1  \n",
      "1324           0              1                  0      -1  \n",
      "1325           1             -1                  0      -1  \n",
      "1326          -1              1                  0       0  \n",
      "1327           0             -1                  0       1  \n",
      "1328          -1             -1                  0       1  \n",
      "1329          -1              1                  0       1  \n",
      "1330           1              1                  0      -1  \n",
      "1331           1             -1                  0      -1  \n",
      "1332           1              1                  1      -1  \n",
      "1333           1             -1                  0       1  \n",
      "1334           0             -1                  0      -1  \n",
      "1335          -1             -1                  0       1  \n",
      "1336           0             -1                  0       1  \n",
      "1337          -1             -1                  0       1  \n",
      "1338           0             -1                  0       1  \n",
      "1339           1              1                  0      -1  \n",
      "1340          -1              1                  0       1  \n",
      "1341           0              1                  0      -1  \n",
      "1342           0              1                  0      -1  \n",
      "1343           1             -1                  0      -1  \n",
      "1344           0             -1                  0       1  \n",
      "1345          -1              1                  0       0  \n",
      "1346          -1              1                  0      -1  \n",
      "1347           0              1                  0      -1  \n",
      "1348           0              1                  0       1  \n",
      "1349           0              1                  0      -1  \n",
      "1350          -1             -1                  0       1  \n",
      "1351          -1              1                  0       1  \n",
      "1352          -1             -1                  0      -1  \n",
      "\n",
      "[1353 rows x 9 columns]\n"
     ]
    }
   ],
   "source": [
    "import pandas as pd\n",
    "filedata = pd.read_csv('Phishing data.csv')\n",
    "print filedata"
   ]
  },
  {
   "cell_type": "code",
   "execution_count": 25,
   "metadata": {},
   "outputs": [],
   "source": [
    "from sklearn import tree,svm\n",
    "clf = tree.DecisionTreeClassifier()\n",
    "\n",
    "\n",
    "X = filedata.drop(['Result'],axis=1)\n",
    "Y = filedata.filter(['Result'],axis=1)"
   ]
  },
  {
   "cell_type": "code",
   "execution_count": null,
   "metadata": {},
   "outputs": [],
   "source": []
  },
  {
   "cell_type": "code",
   "execution_count": 13,
   "metadata": {},
   "outputs": [
    {
     "name": "stdout",
     "output_type": "stream",
     "text": [
      "[ 0  1  1 ...,  1  1 -1]\n"
     ]
    }
   ],
   "source": [
    "Y_arr = Y.values.reshape(1353,1).ravel()\n",
    "print Y_arr"
   ]
  },
  {
   "cell_type": "code",
   "execution_count": 16,
   "metadata": {},
   "outputs": [],
   "source": [
    "from sklearn.model_selection import train_test_split\n",
    "\n",
    "X_train, X_test, y_train, y_test = train_test_split(X.values, Y_arr, test_size=0.33, random_state=42)\n",
    "\n"
   ]
  },
  {
   "cell_type": "code",
   "execution_count": 60,
   "metadata": {},
   "outputs": [
    {
     "name": "stdout",
     "output_type": "stream",
     "text": [
      "0.829977628635\n"
     ]
    }
   ],
   "source": [
    "clf.fit(X_train,y_train)\n",
    "print clf.score(X_test,y_test)"
   ]
  },
  {
   "cell_type": "code",
   "execution_count": 61,
   "metadata": {},
   "outputs": [
    {
     "name": "stdout",
     "output_type": "stream",
     "text": [
      "0.798657718121\n"
     ]
    }
   ],
   "source": [
    "clf1 = svm.SVC(decision_function_shape='ovo',kernel='rbf')\n",
    "clf1.fit(X_train,y_train)\n",
    "print clf1.score(X_test,y_test)"
   ]
  },
  {
   "cell_type": "code",
   "execution_count": 62,
   "metadata": {},
   "outputs": [
    {
     "name": "stdout",
     "output_type": "stream",
     "text": [
      "0.825503355705\n"
     ]
    }
   ],
   "source": [
    "from sklearn import ensemble\n",
    "clf2 = ensemble.RandomForestClassifier()\n",
    "clf2.fit(X_train,y_train)\n",
    "print clf2.score(X_test,y_test)"
   ]
  },
  {
   "cell_type": "code",
   "execution_count": 63,
   "metadata": {},
   "outputs": [
    {
     "name": "stdout",
     "output_type": "stream",
     "text": [
      "0.79418344519\n"
     ]
    }
   ],
   "source": [
    "from sklearn import ensemble\n",
    "clf3 = KNeighborsClassifier(3)\n",
    "clf3.fit(X_train,y_train)\n",
    "print clf3.score(X_test,y_test)"
   ]
  },
  {
   "cell_type": "code",
   "execution_count": null,
   "metadata": {},
   "outputs": [],
   "source": [
    "from sklearn import ensemble\n",
    "clf4 = ensemble.AdaBoostClassifier()\n",
    "clf4.fit(X_train,y_train)\n",
    "print clf4.score(X_test,y_test)"
   ]
  }
 ],
 "metadata": {
  "kernelspec": {
   "display_name": "Python 2",
   "language": "python",
   "name": "python2"
  },
  "language_info": {
   "codemirror_mode": {
    "name": "ipython",
    "version": 2
   },
   "file_extension": ".py",
   "mimetype": "text/x-python",
   "name": "python",
   "nbconvert_exporter": "python",
   "pygments_lexer": "ipython2",
   "version": "2.7.14"
  }
 },
 "nbformat": 4,
 "nbformat_minor": 2
}
